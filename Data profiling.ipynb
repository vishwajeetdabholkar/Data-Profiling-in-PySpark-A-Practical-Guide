{
 "cells": [
  {
   "cell_type": "code",
   "execution_count": 8,
   "id": "eca4291c",
   "metadata": {},
   "outputs": [],
   "source": [
    "import findspark\n",
    "findspark.init()\n",
    "import pyspark\n",
    "from pyspark import SparkContext\n",
    "from pyspark.sql import SparkSession\n",
    "from pyspark.sql import functions\n",
    "from pyspark.sql.functions import *"
   ]
  },
  {
   "cell_type": "code",
   "execution_count": 2,
   "id": "d415ba7a",
   "metadata": {},
   "outputs": [],
   "source": [
    "# Create a SparkSession\n",
    "spark = SparkSession.builder.appName(\"DataProfiling\").getOrCreate()"
   ]
  },
  {
   "cell_type": "code",
   "execution_count": 3,
   "id": "e9e57b40",
   "metadata": {},
   "outputs": [],
   "source": [
    "spark.conf.set(\"spark.executor.turnOff.jvmStackTrace\", \"true\")"
   ]
  },
  {
   "cell_type": "code",
   "execution_count": 4,
   "id": "30d73ebf",
   "metadata": {},
   "outputs": [
    {
     "name": "stdout",
     "output_type": "stream",
     "text": [
      "+---+-----+----+-------+--------------+\n",
      "| id| name| age| salary| date_of_birth|\n",
      "+---+-----+----+-------+--------------+\n",
      "|  1| John|32.0|50000.0|    1990-01-01|\n",
      "|  2| Jane|28.0|45000.0|    1992-02-02|\n",
      "+---+-----+----+-------+--------------+\n",
      "only showing top 2 rows\n",
      "\n"
     ]
    }
   ],
   "source": [
    "# Load the data into a DataFrame\n",
    "df = spark.read.csv(\"sample_data.csv\", header=True, inferSchema=True)\n",
    "df.show(n=2)"
   ]
  },
  {
   "cell_type": "code",
   "execution_count": 19,
   "id": "19123199",
   "metadata": {},
   "outputs": [
    {
     "name": "stdout",
     "output_type": "stream",
     "text": [
      "root\n",
      " |-- id: integer (nullable = true)\n",
      " |--  name: string (nullable = true)\n",
      " |--  age: double (nullable = true)\n",
      " |--  salary: double (nullable = true)\n",
      " |--  date_of_birth: string (nullable = true)\n",
      "\n"
     ]
    }
   ],
   "source": [
    "df.printSchema()"
   ]
  },
  {
   "cell_type": "code",
   "execution_count": 24,
   "id": "7d6fa3d4",
   "metadata": {},
   "outputs": [
    {
     "name": "stdout",
     "output_type": "stream",
     "text": [
      "{'id': {'repeated_count': 0, 'null_count': 0, 'null_pct': 0.0, 'string_count': 49, 'int_count': 49, 'float_count': 49, 'date_count': 0, 'original_data_type': 'int', 'actual_data_type': 'integer', 'deciding_factor': 'majority'}, ' name': {'repeated_count': 10, 'null_count': 0, 'null_pct': 0.0, 'string_count': 49, 'int_count': 0, 'float_count': 0, 'date_count': 0, 'original_data_type': 'string', 'actual_data_type': 'string', 'deciding_factor': 'all string'}, ' age': {'repeated_count': 10, 'null_count': 0, 'null_pct': 0.0, 'string_count': 49, 'int_count': 49, 'float_count': 49, 'date_count': 0, 'original_data_type': 'double', 'actual_data_type': 'integer', 'deciding_factor': 'majority'}, ' salary': {'repeated_count': 10, 'null_count': 0, 'null_pct': 0.0, 'string_count': 49, 'int_count': 49, 'float_count': 49, 'date_count': 0, 'original_data_type': 'double', 'actual_data_type': 'integer', 'deciding_factor': 'majority'}, ' date_of_birth': {'repeated_count': 10, 'null_count': 0, 'null_pct': 0.0, 'string_count': 49, 'int_count': 0, 'float_count': 0, 'date_count': 49, 'original_data_type': 'string', 'actual_data_type': 'date', 'deciding_factor': 'majority'}}\n"
     ]
    }
   ],
   "source": [
    "total_rows = df.count()\n",
    "\n",
    "profiling_data = {}\n",
    "for i, col in enumerate(df.columns):\n",
    "    # Repeated values\n",
    "    expr = f\"count > 1\"\n",
    "    repeated_count = df.groupBy(col).count().filter(expr).count()\n",
    "    \n",
    "    # Null values\n",
    "    null_count = df.filter(isnull(col)).count()\n",
    "    null_pct = (null_count / total_rows) * 100\n",
    "    \n",
    "    # Value types\n",
    "    string_count = df.filter(df[col].cast(\"string\").isNotNull()).count()\n",
    "    int_count = df.filter(df[col].cast(\"integer\").isNotNull()).count()\n",
    "    float_count = df.filter(df[col].cast(\"float\").isNotNull()).count()\n",
    "    date_count = df.filter(to_date(df[col].cast(\"string\")).isNotNull()).count()\n",
    "    \n",
    "    if int_count > 0:\n",
    "        actual_data_type = \"integer\"\n",
    "        deciding_factor = \"majority\"\n",
    "    elif float_count > 0:\n",
    "        actual_data_type = \"float\"\n",
    "        deciding_factor = \"majority\"\n",
    "    elif date_count > 0:\n",
    "        actual_data_type = \"date\"\n",
    "        deciding_factor = \"majority\"\n",
    "    else:\n",
    "        actual_data_type = \"string\"\n",
    "        deciding_factor = \"all string\"\n",
    "    \n",
    "    \n",
    "    original_data_type = df.dtypes[i][1]\n",
    "    \n",
    "    profiling_data[col] = {\n",
    "        \"repeated_count\": repeated_count,\n",
    "        \"null_count\": null_count,\n",
    "        \"null_pct\": null_pct,\n",
    "        \"string_count\": string_count,\n",
    "        \"int_count\": int_count,\n",
    "        \"float_count\": float_count,\n",
    "        \"date_count\": date_count,\n",
    "        \"original_data_type\" : original_data_type,\n",
    "        \"actual_data_type\": actual_data_type,\n",
    "        \"deciding_factor\": deciding_factor\n",
    "    }\n",
    "    \n",
    "print(profiling_data)"
   ]
  },
  {
   "cell_type": "code",
   "execution_count": null,
   "id": "9419da22",
   "metadata": {},
   "outputs": [],
   "source": []
  },
  {
   "cell_type": "code",
   "execution_count": null,
   "id": "c287e6e4",
   "metadata": {},
   "outputs": [],
   "source": []
  },
  {
   "cell_type": "code",
   "execution_count": 30,
   "id": "95fa97e0",
   "metadata": {},
   "outputs": [
    {
     "data": {
      "image/png": "[encoded data removed]",
      "text/plain": [
       "<Figure size 432x288 with 1 Axes>"
      ]
     },
     "metadata": {
      "needs_background": "light"
     },
     "output_type": "display_data"
    },
    {
     "data": {
      "image/png": "[encoded data removed]",
      "text/plain": [
       "<Figure size 432x288 with 1 Axes>"
      ]
     },
     "metadata": {
      "needs_background": "light"
     },
     "output_type": "display_data"
    },
    {
     "data": {
      "image/png": "[encoded data removed]",
      "text/plain": [
       "<Figure size 432x288 with 1 Axes>"
      ]
     },
     "metadata": {
      "needs_background": "light"
     },
     "output_type": "display_data"
    },
    {
     "data": {
      "image/png": "[encoded data removed]",
      "text/plain": [
       "<Figure size 432x288 with 1 Axes>"
      ]
     },
     "metadata": {
      "needs_background": "light"
     },
     "output_type": "display_data"
    },
    {
     "data": {
      "image/png": "[encoded data removed]",
      "text/plain": [
       "<Figure size 432x288 with 1 Axes>"
      ]
     },
     "metadata": {
      "needs_background": "light"
     },
     "output_type": "display_data"
    }
   ],
   "source": [
    "import matplotlib.pyplot as plt\n",
    "\n",
    "def plot_col_stats(col, profiling_data):\n",
    "    null_count = profiling_data[col]['null_count']\n",
    "    int_count = profiling_data[col]['int_count']\n",
    "    float_count = profiling_data[col]['float_count']\n",
    "    string_count = profiling_data[col]['string_count']\n",
    "    date_count = profiling_data[col]['date_count']\n",
    "    \n",
    "    fig, ax = plt.subplots()\n",
    "    ax.bar(['nulls', 'ints', 'floats', 'strings', 'dates'], [null_count, int_count, float_count, string_count, date_count])\n",
    "    ax.set_ylabel('Count')\n",
    "    ax.set_xlabel('Data Type')\n",
    "    ax.set_title(col)\n",
    "    plt.show()\n",
    "\n",
    "for col in df.columns:\n",
    "    plot_col_stats(col, profiling_data)\n"
   ]
  },
  {
   "cell_type": "code",
   "execution_count": null,
   "id": "612db4f9",
   "metadata": {},
   "outputs": [],
   "source": []
  },
  {
   "cell_type": "code",
   "execution_count": null,
   "id": "d9e481da",
   "metadata": {},
   "outputs": [],
   "source": []
  }
 ],
 "metadata": {
  "kernelspec": {
   "display_name": "Python 3",
   "language": "python",
   "name": "python3"
  },
  "language_info": {
   "codemirror_mode": {
    "name": "ipython",
    "version": 3
   },
   "file_extension": ".py",
   "mimetype": "text/x-python",
   "name": "python",
   "nbconvert_exporter": "python",
   "pygments_lexer": "ipython3",
   "version": "3.8.3"
  }
 },
 "nbformat": 4,
 "nbformat_minor": 5
}
